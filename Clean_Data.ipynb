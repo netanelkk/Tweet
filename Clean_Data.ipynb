{
 "cells": [
  {
   "cell_type": "markdown",
   "metadata": {},
   "source": [
    "# Tweets about the top companies \n",
    "# Dor Azulay & Netanel Kluzner \n",
    "-------------------------------------------"
   ]
  },
  {
   "cell_type": "code",
   "execution_count": null,
   "metadata": {},
   "outputs": [],
   "source": [
    "pip install pandas"
   ]
  },
  {
   "cell_type": "code",
   "execution_count": null,
   "metadata": {},
   "outputs": [],
   "source": [
    "!pip install tabulate"
   ]
  },
  {
   "cell_type": "code",
   "execution_count": null,
   "metadata": {},
   "outputs": [],
   "source": [
    "#filtered the source data \n",
    "import pandas as pd\n",
    "df = pd.read_csv(r'C:\\Users\\dorkf\\Desktop\\Algo\\filtered_data.csv')\n",
    "df\n",
    "\n"
   ]
  },
  {
   "cell_type": "code",
   "execution_count": null,
   "metadata": {},
   "outputs": [],
   "source": [
    "import pandas as pd\n",
    "#Filtering according to the parameters we choose\n",
    "# Convert 'post_date' column in df_filtered to datetime\n",
    "df['post_date'] = pd.to_datetime(df['post_date'], unit='s')\n",
    "\n",
    "# Filter the df_filtered based on the condition (sum of likes, retweets, and comments > 30)\n",
    "filtered_df = df[(df['like_num'] + df['retweet_num'] + df['comment_num']) > 30]\n",
    "\n",
    "# Print the filtered DataFrame\n",
    "filtered_df\n"
   ]
  },
  {
   "cell_type": "code",
   "execution_count": null,
   "metadata": {},
   "outputs": [],
   "source": [
    "import pandas as pd\n",
    "\n",
    "filtered_df['post_date'] = pd.to_datetime(filtered_df['post_date'], unit='s')\n",
    "\n",
    "# Filter the filtered_df for the 1 time period (January to April)\n",
    "jan_apr_df = filtered_df[(filtered_df['post_date'].dt.month >= 1) & (filtered_df['post_date'].dt.month <= 4)]\n",
    "\n",
    "# Print the first time period table\n",
    "print(\"January to April:\")\n",
    "jan_apr_df"
   ]
  },
  {
   "cell_type": "code",
   "execution_count": null,
   "metadata": {},
   "outputs": [],
   "source": [
    "import pandas as pd\n",
    "\n",
    "# Convert 'post_date' column in filtered_df to datetime\n",
    "filtered_df['post_date'] = pd.to_datetime(filtered_df['post_date'], unit='s')\n",
    "\n",
    "# Filter the filtered_df for the 2 time period (May to August)\n",
    "may_aug_df = filtered_df[(filtered_df['post_date'].dt.month >= 5) & (filtered_df['post_date'].dt.month <= 8)]\n",
    "\n",
    "\n",
    "# Print the 2 time period table\n",
    "print(\"\\nMay to August:\")\n",
    "may_aug_df"
   ]
  },
  {
   "cell_type": "code",
   "execution_count": null,
   "metadata": {},
   "outputs": [],
   "source": [
    "import pandas as pd\n",
    "\n",
    "# Convert 'post_date' column in filtered_df to datetime\n",
    "filtered_df['post_date'] = pd.to_datetime(filtered_df['post_date'], unit='s')\n",
    "\n",
    "# Filter the filtered_df for the 3 time period (September to December)\n",
    "sep_dec_df = filtered_df[(filtered_df['post_date'].dt.month >= 9) & (filtered_df['post_date'].dt.month <= 12)]\n",
    "\n",
    "print(\"\\nSeptember to December:\")\n",
    "sep_dec_df"
   ]
  },
  {
   "cell_type": "code",
   "execution_count": null,
   "metadata": {},
   "outputs": [],
   "source": [
    "import pandas as pd\n",
    "\n",
    "# Assuming jan_apr_df already exists in your Python notebook with the actual column names\n",
    "\n",
    "# Words relevant to finance\n",
    "finance_keywords = ['stock', 'exchange', 'market', 'CEO', 'manag', 'invest', 'crypto', 'trad',\n",
    "                    'founder', 'author', 'reporter', 'analysis', 'analyst', 'research', 'infla',\n",
    "                    'bond', 'earnings', 'dividend', 'econom', 'financ']\n",
    "\n",
    "# Function to classify users based on the description containing finance-related keywords and followers count\n",
    "def classify_users(row):\n",
    "    followers = row['total_engagement']  # Assuming 'total_engagement' represents followers in your DataFrame\n",
    "    description = row['body']  # Assuming 'body' represents the description in your DataFrame\n",
    "    \n",
    "    # Check if the description contains finance-related keywords\n",
    "    is_finance_related = any(keyword in description.lower() for keyword in finance_keywords)\n",
    "    \n",
    "    if followers < 200:\n",
    "        return 'amateurs'\n",
    "    elif followers >= 200 and is_finance_related:\n",
    "        return 'Stock-related Influencers'\n",
    "    else:\n",
    "        return 'General Influencers'\n",
    "\n",
    "# Apply the classification function to create a new column 'classification'\n",
    "jan_apr_df['classification'] = jan_apr_df.apply(classify_users, axis=1)\n",
    "\n",
    "# Sort the DataFrame based on total_engagement in descending order\n",
    "jan_apr_df.sort_values(by='total_engagement', ascending=False, inplace=True)\n",
    "\n",
    "# Print the DataFrame\n",
    "jan_apr_df\n",
    "# Save the output DataFrame to an Excel file in the current working directory\n",
    "output_path = 'output_data.xlsx'\n",
    "jan_apr_df.to_excel(output_path, index=False)"
   ]
  },
  {
   "cell_type": "code",
   "execution_count": null,
   "metadata": {},
   "outputs": [],
   "source": [
    "import pandas as pd\n",
    "\n",
    "# Assuming may_aug_df already exists in your Python notebook with the actual column names\n",
    "\n",
    "# Words relevant to finance\n",
    "finance_keywords = ['stock', 'exchange', 'market', 'CEO', 'manag', 'invest', 'crypto', 'trad',\n",
    "                    'founder', 'author', 'reporter', 'analysis', 'analyst', 'research', 'infla',\n",
    "                    'bond', 'earnings', 'dividend', 'econom', 'financ']\n",
    "\n",
    "# Function to classify users based on the description containing finance-related keywords and followers count\n",
    "def classify_users(row):\n",
    "    followers = row['total_engagement']  # Assuming 'total_engagement' represents followers in your DataFrame\n",
    "    description = row['body']  # Assuming 'body' represents the description in your DataFrame\n",
    "    \n",
    "    # Check if the description contains finance-related keywords\n",
    "    is_finance_related = any(keyword in description.lower() for keyword in finance_keywords)\n",
    "    \n",
    "    if followers < 200:\n",
    "        return 'amateurs'\n",
    "    elif followers >= 200 and is_finance_related:\n",
    "        return 'Stock-related Influencers'\n",
    "    else:\n",
    "        return 'General Influencers'\n",
    "\n",
    "# Apply the classification function to create a new column 'classification'\n",
    "may_aug_df['classification'] = may_aug_df.apply(classify_users, axis=1)\n",
    "\n",
    "# Sort the DataFrame based on total_engagement in descending order\n",
    "may_aug_df.sort_values(by='total_engagement', ascending=False, inplace=True)\n",
    "\n",
    "# Print the DataFrame\n",
    "may_aug_df\n",
    "# Save the output DataFrame to an Excel file in the current working directory\n",
    "output_path = 'output_data1.xlsx'\n",
    "may_aug_df.to_excel(output_path, index=False)\n",
    "may_aug_df\n"
   ]
  },
  {
   "cell_type": "code",
   "execution_count": null,
   "metadata": {},
   "outputs": [],
   "source": [
    "import pandas as pd\n",
    "\n",
    "# Assuming sep_dec_df already exists in your Python notebook with the actual column names\n",
    "\n",
    "# Words relevant to finance\n",
    "finance_keywords = ['stock', 'exchange', 'market', 'CEO', 'manag', 'invest', 'crypto', 'trad',\n",
    "                    'founder', 'author', 'reporter', 'analysis', 'analyst', 'research', 'infla',\n",
    "                    'bond', 'earnings', 'dividend', 'econom', 'financ']\n",
    "\n",
    "# Function to classify users based on the description containing finance-related keywords and followers count\n",
    "def classify_users(row):\n",
    "    followers = row['total_engagement']  # Assuming 'total_engagement' represents followers in your DataFrame\n",
    "    description = row['body']  # Assuming 'body' represents the description in your DataFrame\n",
    "    \n",
    "    # Check if the description contains finance-related keywords\n",
    "    is_finance_related = any(keyword in description.lower() for keyword in finance_keywords)\n",
    "    \n",
    "    if followers < 200:\n",
    "        return 'amateurs'\n",
    "    elif followers >= 200 and is_finance_related:\n",
    "        return 'Stock-related Influencers'\n",
    "    else:\n",
    "        return 'General Influencers'\n",
    "\n",
    "# Apply the classification function to create a new column 'classification'\n",
    "sep_dec_df['classification'] = sep_dec_df.apply(classify_users, axis=1)\n",
    "\n",
    "# Sort the DataFrame based on total_engagement in descending order\n",
    "sep_dec_df.sort_values(by='total_engagement', ascending=False, inplace=True)\n",
    "\n",
    "# Print the DataFrame\n",
    "sep_dec_df\n",
    "# Save the output DataFrame to an Excel file in the current working directory\n",
    "output_path = 'output_data1.xlsx'\n",
    "sep_dec_df.to_excel(output_path, index=False)\n",
    "sep_dec_df\n"
   ]
  }
 ],
 "metadata": {
  "kernelspec": {
   "display_name": "Python 3",
   "language": "python",
   "name": "python3"
  },
  "language_info": {
   "codemirror_mode": {
    "name": "ipython",
    "version": 3
   },
   "file_extension": ".py",
   "mimetype": "text/x-python",
   "name": "python",
   "nbconvert_exporter": "python",
   "pygments_lexer": "ipython3",
   "version": "3.11.3"
  },
  "orig_nbformat": 4
 },
 "nbformat": 4,
 "nbformat_minor": 2
}
